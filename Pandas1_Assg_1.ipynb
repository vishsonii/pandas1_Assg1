{
 "cells": [
  {
   "cell_type": "code",
   "execution_count": 4,
   "metadata": {},
   "outputs": [
    {
     "data": {
      "text/plain": [
       "[1, 2, 0, 1, 2, 3, 4, 0, 1, 2]"
      ]
     },
     "execution_count": 4,
     "metadata": {},
     "output_type": "execute_result"
    }
   ],
   "source": [
    "import pandas as pd\n",
    "import numpy as np\n",
    "\n",
    "s = pd.Series([7, 2, 0, 3, 4, 2, 5, 0, 3, 4])\n",
    "\n",
    "(s.groupby(s.eq(0).cumsum().mask(s.eq(0))).cumcount() + 1).mask(s.eq(0), 0).tolist()"
   ]
  },
  {
   "cell_type": "markdown",
   "metadata": {},
   "source": [
    "Create a DatetimeIndex that contains each business day of 2015 and use it to index a\n",
    "Series of random numbers."
   ]
  },
  {
   "cell_type": "code",
   "execution_count": 6,
   "metadata": {},
   "outputs": [
    {
     "name": "stdout",
     "output_type": "stream",
     "text": [
      "2015-01-01    0.262875\n",
      "2015-01-02    0.566588\n",
      "2015-01-05    0.357675\n",
      "2015-01-06    0.274563\n",
      "2015-01-07    0.816124\n",
      "2015-01-08    0.468921\n",
      "2015-01-09    0.288618\n",
      "2015-01-12    0.375622\n",
      "2015-01-13    0.290693\n",
      "2015-01-14    0.807201\n",
      "2015-01-15    0.478970\n",
      "2015-01-16    0.879211\n",
      "2015-01-19    0.317254\n",
      "2015-01-20    0.379673\n",
      "2015-01-21    0.760254\n",
      "2015-01-22    0.380781\n",
      "2015-01-23    0.688439\n",
      "2015-01-26    0.371875\n",
      "2015-01-27    0.012137\n",
      "2015-01-28    0.128819\n",
      "2015-01-29    0.048567\n",
      "2015-01-30    0.498716\n",
      "2015-02-02    0.052754\n",
      "2015-02-03    0.944489\n",
      "2015-02-04    0.069763\n",
      "2015-02-05    0.790719\n",
      "2015-02-06    0.715839\n",
      "2015-02-09    0.353289\n",
      "2015-02-10    0.796042\n",
      "2015-02-11    0.592312\n",
      "                ...   \n",
      "2015-11-20    0.184994\n",
      "2015-11-23    0.748049\n",
      "2015-11-24    0.700672\n",
      "2015-11-25    0.895649\n",
      "2015-11-26    0.912883\n",
      "2015-11-27    0.713663\n",
      "2015-11-30    0.643156\n",
      "2015-12-01    0.077663\n",
      "2015-12-02    0.273369\n",
      "2015-12-03    0.472962\n",
      "2015-12-04    0.281438\n",
      "2015-12-07    0.576263\n",
      "2015-12-08    0.594630\n",
      "2015-12-09    0.214386\n",
      "2015-12-10    0.350082\n",
      "2015-12-11    0.826971\n",
      "2015-12-14    0.857773\n",
      "2015-12-15    0.600624\n",
      "2015-12-16    0.611261\n",
      "2015-12-17    0.012279\n",
      "2015-12-18    0.005881\n",
      "2015-12-21    0.187917\n",
      "2015-12-22    0.570351\n",
      "2015-12-23    0.884127\n",
      "2015-12-24    0.120274\n",
      "2015-12-25    0.223934\n",
      "2015-12-28    0.905892\n",
      "2015-12-29    0.852600\n",
      "2015-12-30    0.967658\n",
      "2015-12-31    0.159867\n",
      "Freq: B, Length: 261, dtype: float64\n"
     ]
    }
   ],
   "source": [
    "dti = pd.date_range(start='2015-01-01', end='2015-12-31', freq='B') \n",
    "s = pd.Series(np.random.rand(len(dti)), index=dti)\n",
    "print (s)\n"
   ]
  },
  {
   "cell_type": "markdown",
   "metadata": {},
   "source": [
    "Find the sum of the values in s for every Wednesday"
   ]
  },
  {
   "cell_type": "code",
   "execution_count": 8,
   "metadata": {},
   "outputs": [
    {
     "data": {
      "text/plain": [
       "28.914182047566776"
      ]
     },
     "execution_count": 8,
     "metadata": {},
     "output_type": "execute_result"
    }
   ],
   "source": [
    "s[dti.weekday == 2].sum()"
   ]
  },
  {
   "cell_type": "markdown",
   "metadata": {},
   "source": [
    "For each group of four consecutive calendar months in s, find the date on which the\n",
    "highest value occurred."
   ]
  },
  {
   "cell_type": "code",
   "execution_count": 9,
   "metadata": {},
   "outputs": [
    {
     "name": "stderr",
     "output_type": "stream",
     "text": [
      "C:\\Users\\HP\\Anaconda3\\lib\\site-packages\\ipykernel_launcher.py:1: FutureWarning: pd.TimeGrouper is deprecated and will be removed; Please use pd.Grouper(freq=...)\n",
      "  \"\"\"Entry point for launching an IPython kernel.\n"
     ]
    },
    {
     "data": {
      "text/plain": [
       "2015-01-31   2015-01-16\n",
       "2015-05-31   2015-04-20\n",
       "2015-09-30   2015-09-01\n",
       "2016-01-31   2015-12-30\n",
       "dtype: datetime64[ns]"
      ]
     },
     "execution_count": 9,
     "metadata": {},
     "output_type": "execute_result"
    }
   ],
   "source": [
    "s.groupby(pd.TimeGrouper('4M')).idxmax()"
   ]
  },
  {
   "cell_type": "code",
   "execution_count": null,
   "metadata": {},
   "outputs": [],
   "source": []
  }
 ],
 "metadata": {
  "kernelspec": {
   "display_name": "Python 3",
   "language": "python",
   "name": "python3"
  },
  "language_info": {
   "codemirror_mode": {
    "name": "ipython",
    "version": 3
   },
   "file_extension": ".py",
   "mimetype": "text/x-python",
   "name": "python",
   "nbconvert_exporter": "python",
   "pygments_lexer": "ipython3",
   "version": "3.6.4"
  }
 },
 "nbformat": 4,
 "nbformat_minor": 2
}
